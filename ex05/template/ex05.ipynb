{
 "cells": [
  {
   "cell_type": "code",
   "execution_count": 1,
   "metadata": {},
   "outputs": [],
   "source": [
    "# Useful starting lines\n",
    "%matplotlib inline\n",
    "import numpy as np\n",
    "import matplotlib.pyplot as plt\n",
    "\n",
    "%load_ext autoreload\n",
    "%autoreload 2\n",
    "\n",
    "# Load test module for sanity check\n",
    "from test_utils import test"
   ]
  },
  {
   "cell_type": "markdown",
   "metadata": {},
   "source": [
    "# Logistic Regression\n",
    "## Classification Using Linear Regression\n",
    "Load your data."
   ]
  },
  {
   "cell_type": "code",
   "execution_count": 2,
   "metadata": {},
   "outputs": [],
   "source": [
    "from helpers import sample_data, load_data, standardize\n",
    "\n",
    "# load data.\n",
    "height, weight, gender = load_data()\n",
    "\n",
    "# build sampled x and y.\n",
    "seed = 1\n",
    "y = np.expand_dims(gender, axis=1)\n",
    "X = np.c_[height.reshape(-1), weight.reshape(-1)]\n",
    "y, X = sample_data(y, X, seed, size_samples=200)\n",
    "x, mean_x, std_x = standardize(X)"
   ]
  },
  {
   "cell_type": "markdown",
   "metadata": {},
   "source": [
    "Use `least_squares` to compute w, and visualize the results."
   ]
  },
  {
   "cell_type": "code",
   "execution_count": 3,
   "metadata": {},
   "outputs": [
    {
     "ename": "NameError",
     "evalue": "name 'w' is not defined",
     "output_type": "error",
     "traceback": [
      "\u001b[31m---------------------------------------------------------------------------\u001b[39m",
      "\u001b[31mNameError\u001b[39m                                 Traceback (most recent call last)",
      "\u001b[36mCell\u001b[39m\u001b[36m \u001b[39m\u001b[32mIn[3]\u001b[39m\u001b[32m, line 24\u001b[39m\n\u001b[32m     14\u001b[39m     \u001b[38;5;66;03m# ***************************************************\u001b[39;00m\n\u001b[32m     15\u001b[39m     \u001b[38;5;66;03m# INSERT YOUR CODE HERE\u001b[39;00m\n\u001b[32m     16\u001b[39m     \u001b[38;5;66;03m# classify the data by linear regression: TODO\u001b[39;00m\n\u001b[32m   (...)\u001b[39m\u001b[32m     19\u001b[39m \n\u001b[32m     20\u001b[39m     \u001b[38;5;66;03m# visualize your classification.\u001b[39;00m\n\u001b[32m     21\u001b[39m     visualization(y, x, mean_x, std_x, w, \u001b[33m\"\u001b[39m\u001b[33mclassification_by_least_square\u001b[39m\u001b[33m\"\u001b[39m)\n\u001b[32m---> \u001b[39m\u001b[32m24\u001b[39m \u001b[43mleast_square_classification_demo\u001b[49m\u001b[43m(\u001b[49m\u001b[43my\u001b[49m\u001b[43m,\u001b[49m\u001b[43m \u001b[49m\u001b[43mx\u001b[49m\u001b[43m)\u001b[49m\n",
      "\u001b[36mCell\u001b[39m\u001b[36m \u001b[39m\u001b[32mIn[3]\u001b[39m\u001b[32m, line 21\u001b[39m, in \u001b[36mleast_square_classification_demo\u001b[39m\u001b[34m(y, x)\u001b[39m\n\u001b[32m     13\u001b[39m tx = np.c_[np.ones((y.shape[\u001b[32m0\u001b[39m], \u001b[32m1\u001b[39m)), x]\n\u001b[32m     14\u001b[39m \u001b[38;5;66;03m# ***************************************************\u001b[39;00m\n\u001b[32m     15\u001b[39m \u001b[38;5;66;03m# INSERT YOUR CODE HERE\u001b[39;00m\n\u001b[32m     16\u001b[39m \u001b[38;5;66;03m# classify the data by linear regression: TODO\u001b[39;00m\n\u001b[32m   (...)\u001b[39m\u001b[32m     19\u001b[39m \n\u001b[32m     20\u001b[39m \u001b[38;5;66;03m# visualize your classification.\u001b[39;00m\n\u001b[32m---> \u001b[39m\u001b[32m21\u001b[39m visualization(y, x, mean_x, std_x, \u001b[43mw\u001b[49m, \u001b[33m\"\u001b[39m\u001b[33mclassification_by_least_square\u001b[39m\u001b[33m\"\u001b[39m)\n",
      "\u001b[31mNameError\u001b[39m: name 'w' is not defined"
     ]
    }
   ],
   "source": [
    "from least_squares import least_squares\n",
    "from plots import visualization\n",
    "\n",
    "\n",
    "def least_square_classification_demo(y, x):\n",
    "    \"\"\"Least square demo\n",
    "\n",
    "    Args:\n",
    "        y:  shape=(N, 1)\n",
    "        x:  shape=(N, 2)\n",
    "    \"\"\"\n",
    "    # classify the data by linear regression\n",
    "    tx = np.c_[np.ones((y.shape[0], 1)), x]\n",
    "    # ***************************************************\n",
    "    # INSERT YOUR CODE HERE\n",
    "    # classify the data by linear regression: TODO\n",
    "    # ***************************************************\n",
    "    # w = least squares with respect to tx and y\n",
    "\n",
    "    # visualize your classification.\n",
    "    visualization(y, x, mean_x, std_x, w, \"classification_by_least_square\")\n",
    "\n",
    "\n",
    "least_square_classification_demo(y, x)"
   ]
  },
  {
   "cell_type": "markdown",
   "metadata": {},
   "source": [
    "#### The `least_square_classification_demo` is expected to show\n",
    "\n",
    "![1](./classification_by_least_square.png)"
   ]
  },
  {
   "cell_type": "markdown",
   "metadata": {},
   "source": [
    "## Logistic Regression"
   ]
  },
  {
   "cell_type": "markdown",
   "metadata": {},
   "source": [
    "Compute your cost by negative log likelihood."
   ]
  },
  {
   "cell_type": "code",
   "execution_count": 5,
   "metadata": {},
   "outputs": [
    {
     "name": "stdout",
     "output_type": "stream",
     "text": [
      "✅ Your `sigmoid` passed 2 tests.\n"
     ]
    }
   ],
   "source": [
    "def sigmoid(t):\n",
    "    \"\"\"apply sigmoid function on t.\n",
    "\n",
    "    Args:\n",
    "        t: scalar or numpy array\n",
    "\n",
    "    Returns:\n",
    "        scalar or numpy array\n",
    "\n",
    "    >>> sigmoid(np.array([0.1]))\n",
    "    array([0.52497919])\n",
    "    >>> sigmoid(np.array([0.1, 0.1]))\n",
    "    array([0.52497919, 0.52497919])\n",
    "    \"\"\"\n",
    "    e_t = np.exp(t)\n",
    "    return e_t / (1 + e_t)\n",
    "\n",
    "test(sigmoid)"
   ]
  },
  {
   "cell_type": "code",
   "execution_count": 6,
   "metadata": {},
   "outputs": [
    {
     "name": "stdout",
     "output_type": "stream",
     "text": [
      "✅ Your `calculate_loss` passed 4 tests.\n"
     ]
    }
   ],
   "source": [
    "def calculate_loss(y, tx, w):\n",
    "    \"\"\"compute the cost by negative log likelihood.\n",
    "\n",
    "    Args:\n",
    "        y:  shape=(N, 1)\n",
    "        tx: shape=(N, D)\n",
    "        w:  shape=(D, 1)\n",
    "\n",
    "    Returns:\n",
    "        a non-negative loss\n",
    "\n",
    "    >>> y = np.c_[[0., 1.]]\n",
    "    >>> tx = np.arange(4).reshape(2, 2)\n",
    "    >>> w = np.c_[[2., 3.]]\n",
    "    >>> round(calculate_loss(y, tx, w), 8)\n",
    "    1.52429481\n",
    "    \"\"\"\n",
    "    assert y.shape[0] == tx.shape[0]\n",
    "    assert tx.shape[1] == w.shape[0]\n",
    "\n",
    "    # ***************************************************\n",
    "    # INSERT YOUR CODE HERE\n",
    "    # TODO\n",
    "    # ***************************************************\n",
    "    pred = sigmoid(tx.dot(w))\n",
    "    loss = y.T.dot(np.log(pred)) + (1 - y).T.dot(np.log(1 - pred))\n",
    "    return np.squeeze(-loss).item() * (1 / y.shape[0])\n",
    "\n",
    "test(calculate_loss)"
   ]
  },
  {
   "cell_type": "code",
   "execution_count": 7,
   "metadata": {},
   "outputs": [
    {
     "name": "stdout",
     "output_type": "stream",
     "text": [
      "✅ Your `calculate_gradient` passed 5 tests.\n"
     ]
    }
   ],
   "source": [
    "def calculate_gradient(y, tx, w):\n",
    "    \"\"\"compute the gradient of loss.\n",
    "\n",
    "    Args:\n",
    "        y:  shape=(N, 1)\n",
    "        tx: shape=(N, D)\n",
    "        w:  shape=(D, 1)\n",
    "\n",
    "    Returns:\n",
    "        a vector of shape (D, 1)\n",
    "\n",
    "    >>> np.set_printoptions(8)\n",
    "    >>> y = np.c_[[0., 1.]]\n",
    "    >>> tx = np.arange(6).reshape(2, 3)\n",
    "    >>> w = np.array([[0.1], [0.2], [0.3]])\n",
    "    >>> calculate_gradient(y, tx, w)\n",
    "    array([[-0.10370763],\n",
    "           [ 0.2067104 ],\n",
    "           [ 0.51712843]])\n",
    "    \"\"\"\n",
    "    # ***************************************************\n",
    "    # INSERT YOUR CODE HERE\n",
    "    # TODO\n",
    "    # ***************************************************\n",
    "    pred = sigmoid(tx.dot(w))\n",
    "    return tx.T.dot(pred - y) * (1 / y.shape[0])\n",
    "\n",
    "test(calculate_gradient)"
   ]
  },
  {
   "cell_type": "markdown",
   "metadata": {},
   "source": [
    "### Using Gradient Descent\n",
    "Implement your function to calculate the gradient for logistic regression."
   ]
  },
  {
   "cell_type": "code",
   "execution_count": 8,
   "metadata": {},
   "outputs": [
    {
     "name": "stdout",
     "output_type": "stream",
     "text": [
      "✅ Your `learning_by_gradient_descent` passed 7 tests.\n"
     ]
    }
   ],
   "source": [
    "def learning_by_gradient_descent(y, tx, w, gamma):\n",
    "    \"\"\"\n",
    "    Do one step of gradient descent using logistic regression. Return the loss and the updated w.\n",
    "\n",
    "    Args:\n",
    "        y:  shape=(N, 1)\n",
    "        tx: shape=(N, D)\n",
    "        w:  shape=(D, 1)\n",
    "        gamma: float\n",
    "\n",
    "    Returns:\n",
    "        loss: scalar number\n",
    "        w: shape=(D, 1)\n",
    "\n",
    "    >>> y = np.c_[[0., 1.]]\n",
    "    >>> tx = np.arange(6).reshape(2, 3)\n",
    "    >>> w = np.array([[0.1], [0.2], [0.3]])\n",
    "    >>> gamma = 0.1\n",
    "    >>> loss, w = learning_by_gradient_descent(y, tx, w, gamma)\n",
    "    >>> round(loss, 8)\n",
    "    0.62137268\n",
    "    >>> w\n",
    "    array([[0.11037076],\n",
    "           [0.17932896],\n",
    "           [0.24828716]])\n",
    "    \"\"\"\n",
    "    # ***************************************************\n",
    "    # INSERT YOUR CODE HERE\n",
    "    # TODO\n",
    "    # ***************************************************\n",
    "\n",
    "    loss = calculate_loss(y, tx, w)\n",
    "    grad = calculate_gradient(y, tx, w)\n",
    "    w = w - gamma * grad \n",
    "    return loss, w\n",
    "\n",
    "test(learning_by_gradient_descent)"
   ]
  },
  {
   "cell_type": "markdown",
   "metadata": {},
   "source": [
    "Demo!"
   ]
  },
  {
   "cell_type": "code",
   "execution_count": 9,
   "metadata": {},
   "outputs": [
    {
     "name": "stdout",
     "output_type": "stream",
     "text": [
      "Current iteration=0, loss=0.6931471805599452\n",
      "Current iteration=100, loss=0.25727807758229915\n",
      "Current iteration=200, loss=0.2354612766230435\n",
      "Current iteration=300, loss=0.22402749546644216\n",
      "Current iteration=400, loss=0.21743934892145103\n",
      "Current iteration=500, loss=0.2133786620603055\n",
      "Current iteration=600, loss=0.21074981111571242\n",
      "Current iteration=700, loss=0.2089845098624057\n",
      "Current iteration=800, loss=0.2077655124329582\n",
      "Current iteration=900, loss=0.2069051929895466\n",
      "Current iteration=1000, loss=0.20628738195411772\n",
      "Current iteration=1100, loss=0.2058374494115843\n",
      "Current iteration=1200, loss=0.20550598727687253\n",
      "Current iteration=1300, loss=0.20525946348042878\n",
      "Current iteration=1400, loss=0.20507464518877036\n",
      "Current iteration=1500, loss=0.20493515330970438\n",
      "Current iteration=1600, loss=0.20482926953052655\n",
      "Current iteration=1700, loss=0.20474850436405453\n",
      "Current iteration=1800, loss=0.20468664114263543\n",
      "Current iteration=1900, loss=0.2046390853160284\n",
      "Current iteration=2000, loss=0.20460241400596174\n",
      "Current iteration=2100, loss=0.20457405952827126\n",
      "Current iteration=2200, loss=0.20455208411719805\n",
      "Current iteration=2300, loss=0.20453501771155266\n",
      "Current iteration=2400, loss=0.20452173995435655\n",
      "Current iteration=2500, loss=0.20451139357783976\n",
      "Current iteration=2600, loss=0.20450332031614324\n",
      "Current iteration=2700, loss=0.20449701314932475\n",
      "Current iteration=2800, loss=0.2044920804924756\n",
      "Current iteration=2900, loss=0.20448821919174934\n",
      "Current iteration=3000, loss=0.20448519406015744\n",
      "Current iteration=3100, loss=0.20448282230082498\n",
      "Current iteration=3200, loss=0.20448096160389256\n",
      "Current iteration=3300, loss=0.2044795010189353\n",
      "Current iteration=3400, loss=0.20447835393401817\n"
     ]
    },
    {
     "ename": "AttributeError",
     "evalue": "'QuadContourSet' object has no attribute 'collections'",
     "output_type": "error",
     "traceback": [
      "\u001b[31m---------------------------------------------------------------------------\u001b[39m",
      "\u001b[31mAttributeError\u001b[39m                            Traceback (most recent call last)",
      "\u001b[36mCell\u001b[39m\u001b[36m \u001b[39m\u001b[32mIn[9]\u001b[39m\u001b[32m, line 39\u001b[39m\n\u001b[32m     27\u001b[39m     visualization(\n\u001b[32m     28\u001b[39m         y,\n\u001b[32m     29\u001b[39m         x,\n\u001b[32m   (...)\u001b[39m\u001b[32m     34\u001b[39m         \u001b[38;5;28;01mTrue\u001b[39;00m,\n\u001b[32m     35\u001b[39m     )\n\u001b[32m     36\u001b[39m     \u001b[38;5;28mprint\u001b[39m(\u001b[33m\"\u001b[39m\u001b[33mloss=\u001b[39m\u001b[38;5;132;01m{l}\u001b[39;00m\u001b[33m\"\u001b[39m.format(l=calculate_loss(y, tx, w)))\n\u001b[32m---> \u001b[39m\u001b[32m39\u001b[39m \u001b[43mlogistic_regression_gradient_descent_demo\u001b[49m\u001b[43m(\u001b[49m\u001b[43my\u001b[49m\u001b[43m,\u001b[49m\u001b[43m \u001b[49m\u001b[43mx\u001b[49m\u001b[43m)\u001b[49m\n",
      "\u001b[36mCell\u001b[39m\u001b[36m \u001b[39m\u001b[32mIn[9]\u001b[39m\u001b[32m, line 27\u001b[39m, in \u001b[36mlogistic_regression_gradient_descent_demo\u001b[39m\u001b[34m(y, x)\u001b[39m\n\u001b[32m     25\u001b[39m         \u001b[38;5;28;01mbreak\u001b[39;00m\n\u001b[32m     26\u001b[39m \u001b[38;5;66;03m# visualization\u001b[39;00m\n\u001b[32m---> \u001b[39m\u001b[32m27\u001b[39m \u001b[43mvisualization\u001b[49m\u001b[43m(\u001b[49m\n\u001b[32m     28\u001b[39m \u001b[43m    \u001b[49m\u001b[43my\u001b[49m\u001b[43m,\u001b[49m\n\u001b[32m     29\u001b[39m \u001b[43m    \u001b[49m\u001b[43mx\u001b[49m\u001b[43m,\u001b[49m\n\u001b[32m     30\u001b[39m \u001b[43m    \u001b[49m\u001b[43mmean_x\u001b[49m\u001b[43m,\u001b[49m\n\u001b[32m     31\u001b[39m \u001b[43m    \u001b[49m\u001b[43mstd_x\u001b[49m\u001b[43m,\u001b[49m\n\u001b[32m     32\u001b[39m \u001b[43m    \u001b[49m\u001b[43mw\u001b[49m\u001b[43m,\u001b[49m\n\u001b[32m     33\u001b[39m \u001b[43m    \u001b[49m\u001b[33;43m\"\u001b[39;49m\u001b[33;43mclassification_by_logistic_regression_gradient_descent\u001b[39;49m\u001b[33;43m\"\u001b[39;49m\u001b[43m,\u001b[49m\n\u001b[32m     34\u001b[39m \u001b[43m    \u001b[49m\u001b[38;5;28;43;01mTrue\u001b[39;49;00m\u001b[43m,\u001b[49m\n\u001b[32m     35\u001b[39m \u001b[43m\u001b[49m\u001b[43m)\u001b[49m\n\u001b[32m     36\u001b[39m \u001b[38;5;28mprint\u001b[39m(\u001b[33m\"\u001b[39m\u001b[33mloss=\u001b[39m\u001b[38;5;132;01m{l}\u001b[39;00m\u001b[33m\"\u001b[39m.format(l=calculate_loss(y, tx, w)))\n",
      "\u001b[36mFile \u001b[39m\u001b[32m~/Documents/personal_projects/epfl_ml_labs/ex05/template/plots.py:54\u001b[39m, in \u001b[36mvisualization\u001b[39m\u001b[34m(y, x, mean_x, std_x, w, save_name, is_LR)\u001b[39m\n\u001b[32m     51\u001b[39m prediction = prediction.reshape((weight.shape[\u001b[32m0\u001b[39m], height.shape[\u001b[32m0\u001b[39m]))\n\u001b[32m     52\u001b[39m cs = ax2.contourf(hx, hy, prediction, \u001b[32m1\u001b[39m)\n\u001b[32m     53\u001b[39m proxy = [\n\u001b[32m---> \u001b[39m\u001b[32m54\u001b[39m     plt.Rectangle((\u001b[32m0\u001b[39m, \u001b[32m0\u001b[39m), \u001b[32m1\u001b[39m, \u001b[32m1\u001b[39m, fc=pc.get_facecolor()[\u001b[32m0\u001b[39m]) \u001b[38;5;28;01mfor\u001b[39;00m pc \u001b[38;5;129;01min\u001b[39;00m \u001b[43mcs\u001b[49m\u001b[43m.\u001b[49m\u001b[43mcollections\u001b[49m\n\u001b[32m     55\u001b[39m ]\n\u001b[32m     56\u001b[39m ax2.legend(proxy, [\u001b[33m\"\u001b[39m\u001b[33mprediction male\u001b[39m\u001b[33m\"\u001b[39m, \u001b[33m\"\u001b[39m\u001b[33mprediction female\u001b[39m\u001b[33m\"\u001b[39m])\n\u001b[32m     58\u001b[39m ax2.scatter(x[females, \u001b[32m0\u001b[39m], x[females, \u001b[32m1\u001b[39m], marker=\u001b[33m\"\u001b[39m\u001b[33m*\u001b[39m\u001b[33m\"\u001b[39m, color=[\u001b[32m0.06\u001b[39m, \u001b[32m0.06\u001b[39m, \u001b[32m1\u001b[39m], s=\u001b[32m20\u001b[39m)\n",
      "\u001b[31mAttributeError\u001b[39m: 'QuadContourSet' object has no attribute 'collections'"
     ]
    },
    {
     "data": {
      "image/png": "[encoded data removed]",
      "text/plain": [
       "<Figure size 640x480 with 2 Axes>"
      ]
     },
     "metadata": {},
     "output_type": "display_data"
    }
   ],
   "source": [
    "from helpers import de_standardize\n",
    "\n",
    "\n",
    "def logistic_regression_gradient_descent_demo(y, x):\n",
    "    # init parameters\n",
    "    max_iter = 10000\n",
    "    threshold = 1e-8\n",
    "    gamma = 0.5\n",
    "    losses = []\n",
    "\n",
    "    # build tx\n",
    "    tx = np.c_[np.ones((y.shape[0], 1)), x]\n",
    "    w = np.zeros((tx.shape[1], 1))\n",
    "\n",
    "    # start the logistic regression\n",
    "    for iter in range(max_iter):\n",
    "        # get loss and update w.\n",
    "        loss, w = learning_by_gradient_descent(y, tx, w, gamma)\n",
    "        # log info\n",
    "        if iter % 100 == 0:\n",
    "            print(\"Current iteration={i}, loss={l}\".format(i=iter, l=loss))\n",
    "        # converge criterion\n",
    "        losses.append(loss)\n",
    "        if len(losses) > 1 and np.abs(losses[-1] - losses[-2]) < threshold:\n",
    "            break\n",
    "    # visualization\n",
    "    visualization(\n",
    "        y,\n",
    "        x,\n",
    "        mean_x,\n",
    "        std_x,\n",
    "        w,\n",
    "        \"classification_by_logistic_regression_gradient_descent\",\n",
    "        True,\n",
    "    )\n",
    "    print(\"loss={l}\".format(l=calculate_loss(y, tx, w)))\n",
    "\n",
    "\n",
    "logistic_regression_gradient_descent_demo(y, x)"
   ]
  },
  {
   "cell_type": "markdown",
   "metadata": {},
   "source": [
    "#### The `logistic_regression_gradient_descent_demo` is expected to show\n",
    "\n",
    "![1](./classification_by_logistic_regression_gradient_descent.png)"
   ]
  },
  {
   "cell_type": "markdown",
   "metadata": {},
   "source": [
    "Calculate your hessian below"
   ]
  },
  {
   "cell_type": "code",
   "execution_count": 30,
   "metadata": {},
   "outputs": [
    {
     "name": "stdout",
     "output_type": "stream",
     "text": [
      "✅ Your `calculate_hessian` passed 4 tests.\n"
     ]
    }
   ],
   "source": [
    "def calculate_hessian(y, tx, w):\n",
    "    \"\"\"return the Hessian of the loss function.\n",
    "\n",
    "    Args:\n",
    "        y:  shape=(N, 1)\n",
    "        tx: shape=(N, D)\n",
    "        w:  shape=(D, 1)\n",
    "\n",
    "    Returns:\n",
    "        a hessian matrix of shape=(D, D)\n",
    "\n",
    "    >>> y = np.c_[[0., 1.]]\n",
    "    >>> tx = np.arange(6).reshape(2, 3)\n",
    "    >>> w = np.array([[0.1], [0.2], [0.3]])\n",
    "    >>> calculate_hessian(y, tx, w)\n",
    "    array([[0.28961235, 0.3861498 , 0.48268724],\n",
    "           [0.3861498 , 0.62182124, 0.85749269],\n",
    "           [0.48268724, 0.85749269, 1.23229813]])\n",
    "    \"\"\"\n",
    "    # ***************************************************\n",
    "    # INSERT YOUR CODE HERE\n",
    "    # calculate Hessian: TODO\n",
    "    # ***************************************************\n",
    "    pred = sigmoid(tx.dot(w))\n",
    "    pred = np.diag(pred.T[0])\n",
    "    r = np.multiply(pred, (1 - pred))\n",
    "    return tx.T.dot(r).dot(tx) * (1 / y.shape[0])\n",
    "\n",
    "test(calculate_hessian)"
   ]
  },
  {
   "cell_type": "markdown",
   "metadata": {},
   "source": [
    "Write a function below to return loss, gradient, and hessian."
   ]
  },
  {
   "cell_type": "code",
   "execution_count": 31,
   "metadata": {},
   "outputs": [
    {
     "name": "stdout",
     "output_type": "stream",
     "text": [
      "✅ Your `logistic_regression` passed 6 tests.\n"
     ]
    }
   ],
   "source": [
    "def logistic_regression(y, tx, w):\n",
    "    \"\"\"return the loss, gradient of the loss, and hessian of the loss.\n",
    "\n",
    "    Args:\n",
    "        y:  shape=(N, 1)\n",
    "        tx: shape=(N, D)\n",
    "        w:  shape=(D, 1)\n",
    "\n",
    "    Returns:\n",
    "        loss: scalar number\n",
    "        gradient: shape=(D, 1)\n",
    "        hessian: shape=(D, D)\n",
    "\n",
    "    >>> y = np.c_[[0., 1.]]\n",
    "    >>> tx = np.arange(6).reshape(2, 3)\n",
    "    >>> w = np.array([[0.1], [0.2], [0.3]])\n",
    "    >>> loss, gradient, hessian = logistic_regression(y, tx, w)\n",
    "    >>> round(loss, 8)\n",
    "    0.62137268\n",
    "    >>> gradient, hessian\n",
    "    (array([[-0.10370763],\n",
    "           [ 0.2067104 ],\n",
    "           [ 0.51712843]]), array([[0.28961235, 0.3861498 , 0.48268724],\n",
    "           [0.3861498 , 0.62182124, 0.85749269],\n",
    "           [0.48268724, 0.85749269, 1.23229813]]))\n",
    "    \"\"\"\n",
    "    # ***************************************************\n",
    "    # INSERT YOUR CODE HERE\n",
    "    # return loss, gradient, and Hessian: TODO\n",
    "    # ***************************************************\n",
    "    loss = calculate_loss(y, tx, w)\n",
    "    grad = calculate_gradient(y, tx, w)\n",
    "    hessian = calculate_hessian(y, tx, w)\n",
    "    return loss, grad, hessian\n",
    "\n",
    "\n",
    "test(logistic_regression)"
   ]
  },
  {
   "cell_type": "markdown",
   "metadata": {},
   "source": [
    "### Using Newton's method\n",
    "Use Newton's method for logistic regression."
   ]
  },
  {
   "cell_type": "code",
   "execution_count": 35,
   "metadata": {},
   "outputs": [
    {
     "name": "stdout",
     "output_type": "stream",
     "text": [
      "✅ Your `learning_by_newton_method` passed 8 tests.\n"
     ]
    }
   ],
   "source": [
    "def learning_by_newton_method(y, tx, w, gamma):\n",
    "    \"\"\"\n",
    "    Do one step of Newton's method.\n",
    "    Return the loss and updated w.\n",
    "\n",
    "    Args:\n",
    "        y:  shape=(N, 1)\n",
    "        tx: shape=(N, D)\n",
    "        w:  shape=(D, 1)\n",
    "        gamma: scalar\n",
    "\n",
    "    Returns:\n",
    "        loss: scalar number\n",
    "        w: shape=(D, 1)\n",
    "\n",
    "    >>> y = np.c_[[0., 0., 1., 1.]]\n",
    "    >>> np.random.seed(0)\n",
    "    >>> tx = np.random.rand(4, 3)\n",
    "    >>> w = np.array([[0.1], [0.5], [0.5]])\n",
    "    >>> gamma = 0.1\n",
    "    >>> loss, w = learning_by_newton_method(y, tx, w, gamma)\n",
    "    >>> round(loss, 8)\n",
    "    0.71692036\n",
    "    >>> w\n",
    "    array([[-1.31876014],\n",
    "           [ 1.0590277 ],\n",
    "           [ 0.80091466]])\n",
    "    \"\"\"\n",
    "    # ***************************************************\n",
    "    # INSERT YOUR CODE HERE\n",
    "    # return loss, gradient and Hessian: TODO\n",
    "    # ***************************************************\n",
    "    loss, grad, hessian = logistic_regression(y, tx, w)\n",
    "    # ***************************************************\n",
    "    # INSERT YOUR CODE HERE\n",
    "    # update w: TODO\n",
    "    # ***************************************************\n",
    "    w = w - gamma * np.linalg.inv(hessian).dot(grad)\n",
    "    return loss, w\n",
    "\n",
    "\n",
    "test(learning_by_newton_method)"
   ]
  },
  {
   "cell_type": "markdown",
   "metadata": {},
   "source": [
    "demo"
   ]
  },
  {
   "cell_type": "code",
   "execution_count": 36,
   "metadata": {},
   "outputs": [
    {
     "name": "stdout",
     "output_type": "stream",
     "text": [
      "Current iteration=0, the loss=0.6931471805599452\n",
      "Current iteration=1, the loss=0.31705776869547897\n",
      "Current iteration=2, the loss=0.23652293099675284\n",
      "Current iteration=3, the loss=0.20998733711242237\n",
      "Current iteration=4, the loss=0.2047819931861897\n",
      "Current iteration=5, the loss=0.20447559968244788\n",
      "Current iteration=6, the loss=0.20447412808813542\n",
      "Current iteration=7, the loss=0.20447412804945292\n"
     ]
    },
    {
     "ename": "AttributeError",
     "evalue": "'QuadContourSet' object has no attribute 'collections'",
     "output_type": "error",
     "traceback": [
      "\u001b[31m---------------------------------------------------------------------------\u001b[39m",
      "\u001b[31mAttributeError\u001b[39m                            Traceback (most recent call last)",
      "\u001b[36mCell\u001b[39m\u001b[36m \u001b[39m\u001b[32mIn[36]\u001b[39m\u001b[32m, line 38\u001b[39m\n\u001b[32m     26\u001b[39m     visualization(\n\u001b[32m     27\u001b[39m         y,\n\u001b[32m     28\u001b[39m         x,\n\u001b[32m   (...)\u001b[39m\u001b[32m     33\u001b[39m         \u001b[38;5;28;01mTrue\u001b[39;00m,\n\u001b[32m     34\u001b[39m     )\n\u001b[32m     35\u001b[39m     \u001b[38;5;28mprint\u001b[39m(\u001b[33m\"\u001b[39m\u001b[33mloss=\u001b[39m\u001b[38;5;132;01m{l}\u001b[39;00m\u001b[33m\"\u001b[39m.format(l=calculate_loss(y, tx, w)))\n\u001b[32m---> \u001b[39m\u001b[32m38\u001b[39m \u001b[43mlogistic_regression_newton_method_demo\u001b[49m\u001b[43m(\u001b[49m\u001b[43my\u001b[49m\u001b[43m,\u001b[49m\u001b[43m \u001b[49m\u001b[43mx\u001b[49m\u001b[43m)\u001b[49m\n",
      "\u001b[36mCell\u001b[39m\u001b[36m \u001b[39m\u001b[32mIn[36]\u001b[39m\u001b[32m, line 26\u001b[39m, in \u001b[36mlogistic_regression_newton_method_demo\u001b[39m\u001b[34m(y, x)\u001b[39m\n\u001b[32m     24\u001b[39m         \u001b[38;5;28;01mbreak\u001b[39;00m\n\u001b[32m     25\u001b[39m \u001b[38;5;66;03m# visualization\u001b[39;00m\n\u001b[32m---> \u001b[39m\u001b[32m26\u001b[39m \u001b[43mvisualization\u001b[49m\u001b[43m(\u001b[49m\n\u001b[32m     27\u001b[39m \u001b[43m    \u001b[49m\u001b[43my\u001b[49m\u001b[43m,\u001b[49m\n\u001b[32m     28\u001b[39m \u001b[43m    \u001b[49m\u001b[43mx\u001b[49m\u001b[43m,\u001b[49m\n\u001b[32m     29\u001b[39m \u001b[43m    \u001b[49m\u001b[43mmean_x\u001b[49m\u001b[43m,\u001b[49m\n\u001b[32m     30\u001b[39m \u001b[43m    \u001b[49m\u001b[43mstd_x\u001b[49m\u001b[43m,\u001b[49m\n\u001b[32m     31\u001b[39m \u001b[43m    \u001b[49m\u001b[43mw\u001b[49m\u001b[43m,\u001b[49m\n\u001b[32m     32\u001b[39m \u001b[43m    \u001b[49m\u001b[33;43m\"\u001b[39;49m\u001b[33;43mclassification_by_logistic_regression_newton_method\u001b[39;49m\u001b[33;43m\"\u001b[39;49m\u001b[43m,\u001b[49m\n\u001b[32m     33\u001b[39m \u001b[43m    \u001b[49m\u001b[38;5;28;43;01mTrue\u001b[39;49;00m\u001b[43m,\u001b[49m\n\u001b[32m     34\u001b[39m \u001b[43m\u001b[49m\u001b[43m)\u001b[49m\n\u001b[32m     35\u001b[39m \u001b[38;5;28mprint\u001b[39m(\u001b[33m\"\u001b[39m\u001b[33mloss=\u001b[39m\u001b[38;5;132;01m{l}\u001b[39;00m\u001b[33m\"\u001b[39m.format(l=calculate_loss(y, tx, w)))\n",
      "\u001b[36mFile \u001b[39m\u001b[32m~/Documents/personal_projects/epfl_ml_labs/ex05/template/plots.py:54\u001b[39m, in \u001b[36mvisualization\u001b[39m\u001b[34m(y, x, mean_x, std_x, w, save_name, is_LR)\u001b[39m\n\u001b[32m     51\u001b[39m prediction = prediction.reshape((weight.shape[\u001b[32m0\u001b[39m], height.shape[\u001b[32m0\u001b[39m]))\n\u001b[32m     52\u001b[39m cs = ax2.contourf(hx, hy, prediction, \u001b[32m1\u001b[39m)\n\u001b[32m     53\u001b[39m proxy = [\n\u001b[32m---> \u001b[39m\u001b[32m54\u001b[39m     plt.Rectangle((\u001b[32m0\u001b[39m, \u001b[32m0\u001b[39m), \u001b[32m1\u001b[39m, \u001b[32m1\u001b[39m, fc=pc.get_facecolor()[\u001b[32m0\u001b[39m]) \u001b[38;5;28;01mfor\u001b[39;00m pc \u001b[38;5;129;01min\u001b[39;00m \u001b[43mcs\u001b[49m\u001b[43m.\u001b[49m\u001b[43mcollections\u001b[49m\n\u001b[32m     55\u001b[39m ]\n\u001b[32m     56\u001b[39m ax2.legend(proxy, [\u001b[33m\"\u001b[39m\u001b[33mprediction male\u001b[39m\u001b[33m\"\u001b[39m, \u001b[33m\"\u001b[39m\u001b[33mprediction female\u001b[39m\u001b[33m\"\u001b[39m])\n\u001b[32m     58\u001b[39m ax2.scatter(x[females, \u001b[32m0\u001b[39m], x[females, \u001b[32m1\u001b[39m], marker=\u001b[33m\"\u001b[39m\u001b[33m*\u001b[39m\u001b[33m\"\u001b[39m, color=[\u001b[32m0.06\u001b[39m, \u001b[32m0.06\u001b[39m, \u001b[32m1\u001b[39m], s=\u001b[32m20\u001b[39m)\n",
      "\u001b[31mAttributeError\u001b[39m: 'QuadContourSet' object has no attribute 'collections'"
     ]
    },
    {
     "data": {
      "image/png": "[encoded data removed]",
      "text/plain": [
       "<Figure size 640x480 with 2 Axes>"
      ]
     },
     "metadata": {},
     "output_type": "display_data"
    }
   ],
   "source": [
    "def logistic_regression_newton_method_demo(y, x):\n",
    "    # init parameters\n",
    "    max_iter = 100\n",
    "    threshold = 1e-8\n",
    "    lambda_ = 0.1\n",
    "    gamma = 1.0\n",
    "    losses = []\n",
    "\n",
    "    # build tx\n",
    "    tx = np.c_[np.ones((y.shape[0], 1)), x]\n",
    "    w = np.zeros((tx.shape[1], 1))\n",
    "\n",
    "    # start the logistic regression\n",
    "    for iter in range(max_iter):\n",
    "        # get loss and update w.\n",
    "        loss, w = learning_by_newton_method(y, tx, w, gamma)\n",
    "        # log info\n",
    "        if iter % 1 == 0:\n",
    "            print(\"Current iteration={i}, the loss={l}\".format(i=iter, l=loss))\n",
    "\n",
    "        # converge criterion\n",
    "        losses.append(loss)\n",
    "        if len(losses) > 1 and np.abs(losses[-1] - losses[-2]) < threshold:\n",
    "            break\n",
    "    # visualization\n",
    "    visualization(\n",
    "        y,\n",
    "        x,\n",
    "        mean_x,\n",
    "        std_x,\n",
    "        w,\n",
    "        \"classification_by_logistic_regression_newton_method\",\n",
    "        True,\n",
    "    )\n",
    "    print(\"loss={l}\".format(l=calculate_loss(y, tx, w)))\n",
    "\n",
    "\n",
    "logistic_regression_newton_method_demo(y, x)"
   ]
  },
  {
   "cell_type": "markdown",
   "metadata": {},
   "source": [
    "#### The `logistic_regression_newton_method_demo` is expected to show\n",
    "\n",
    "![1](./classification_by_logistic_regression_newton_method.png)"
   ]
  },
  {
   "cell_type": "markdown",
   "metadata": {},
   "source": [
    "### Using penalized logistic regression\n",
    "Fill in the function below."
   ]
  },
  {
   "cell_type": "code",
   "execution_count": null,
   "metadata": {},
   "outputs": [],
   "source": [
    "def penalized_logistic_regression(y, tx, w, lambda_):\n",
    "    \"\"\"return the loss and gradient.\n",
    "\n",
    "    Args:\n",
    "        y:  shape=(N, 1)\n",
    "        tx: shape=(N, D)\n",
    "        w:  shape=(D, 1)\n",
    "        lambda_: scalar\n",
    "\n",
    "    Returns:\n",
    "        loss: scalar number\n",
    "        gradient: shape=(D, 1)\n",
    "\n",
    "    >>> y = np.c_[[0., 1.]]\n",
    "    >>> tx = np.arange(6).reshape(2, 3)\n",
    "    >>> w = np.array([[0.1], [0.2], [0.3]])\n",
    "    >>> lambda_ = 0.1\n",
    "    >>> loss, gradient = penalized_logistic_regression(y, tx, w, lambda_)\n",
    "    >>> round(loss, 8)\n",
    "    0.62137268\n",
    "    >>> gradient\n",
    "    array([[-0.08370763],\n",
    "           [ 0.2467104 ],\n",
    "           [ 0.57712843]])\n",
    "    \"\"\"\n",
    "    # ***************************************************\n",
    "    # INSERT YOUR CODE HERE\n",
    "    # return loss, gradient, and Hessian: TODO\n",
    "    # ***************************************************\n",
    "    raise NotImplementedError\n",
    "\n",
    "\n",
    "test(penalized_logistic_regression)"
   ]
  },
  {
   "cell_type": "code",
   "execution_count": null,
   "metadata": {},
   "outputs": [],
   "source": [
    "def learning_by_penalized_gradient(y, tx, w, gamma, lambda_):\n",
    "    \"\"\"\n",
    "    Do one step of gradient descent, using the penalized logistic regression.\n",
    "    Return the loss and updated w.\n",
    "\n",
    "    Args:\n",
    "        y:  shape=(N, 1)\n",
    "        tx: shape=(N, D)\n",
    "        w:  shape=(D, 1)\n",
    "        gamma: scalar\n",
    "        lambda_: scalar\n",
    "\n",
    "    Returns:\n",
    "        loss: scalar number\n",
    "        w: shape=(D, 1)\n",
    "\n",
    "    >>> np.set_printoptions(8)\n",
    "    >>> y = np.c_[[0., 1.]]\n",
    "    >>> tx = np.arange(6).reshape(2, 3)\n",
    "    >>> w = np.array([[0.1], [0.2], [0.3]])\n",
    "    >>> lambda_ = 0.1\n",
    "    >>> gamma = 0.1\n",
    "    >>> loss, w = learning_by_penalized_gradient(y, tx, w, gamma, lambda_)\n",
    "    >>> round(loss, 8)\n",
    "    0.62137268\n",
    "    >>> w\n",
    "    array([[0.10837076],\n",
    "           [0.17532896],\n",
    "           [0.24228716]])\n",
    "    \"\"\"\n",
    "    # ***************************************************\n",
    "    # INSERT YOUR CODE HERE\n",
    "    # return loss, gradient: TODO\n",
    "    # ***************************************************\n",
    "    raise NotImplementedError\n",
    "    # ***************************************************\n",
    "    # INSERT YOUR CODE HERE\n",
    "    # update w: TODO\n",
    "    # ***************************************************\n",
    "    raise NotImplementedError\n",
    "    return loss, w\n",
    "\n",
    "\n",
    "test(learning_by_penalized_gradient)"
   ]
  },
  {
   "cell_type": "code",
   "execution_count": null,
   "metadata": {},
   "outputs": [],
   "source": [
    "def logistic_regression_penalized_gradient_descent_demo(y, x):\n",
    "    # init parameters\n",
    "    max_iter = 10000\n",
    "    gamma = 0.5\n",
    "    lambda_ = 0.0005\n",
    "    threshold = 1e-8\n",
    "    losses = []\n",
    "\n",
    "    # build tx\n",
    "    tx = np.c_[np.ones((y.shape[0], 1)), x]\n",
    "    w = np.zeros((tx.shape[1], 1))\n",
    "\n",
    "    # start the logistic regression\n",
    "    for iter in range(max_iter):\n",
    "        # get loss and update w.\n",
    "        loss, w = learning_by_penalized_gradient(y, tx, w, gamma, lambda_)\n",
    "        # log info\n",
    "        if iter % 100 == 0:\n",
    "            print(\"Current iteration={i}, loss={l}\".format(i=iter, l=loss))\n",
    "        # converge criterion\n",
    "        losses.append(loss)\n",
    "        if len(losses) > 1 and np.abs(losses[-1] - losses[-2]) < threshold:\n",
    "            break\n",
    "    # visualization\n",
    "    visualization(\n",
    "        y,\n",
    "        x,\n",
    "        mean_x,\n",
    "        std_x,\n",
    "        w,\n",
    "        \"classification_by_logistic_regression_penalized_gradient_descent\",\n",
    "        True,\n",
    "    )\n",
    "    print(\"loss={l}\".format(l=calculate_loss(y, tx, w)))\n",
    "\n",
    "\n",
    "logistic_regression_penalized_gradient_descent_demo(y, x)"
   ]
  },
  {
   "cell_type": "markdown",
   "metadata": {},
   "source": [
    "#### The `logistic_regression_penalized_gradient_descent_demo` is expected to show\n",
    "\n",
    "![1](./classification_by_logistic_regression_penalized_gradient_descent.png)"
   ]
  }
 ],
 "metadata": {
  "kernelspec": {
   "display_name": ".venv (3.12.7)",
   "language": "python",
   "name": "python3"
  },
  "language_info": {
   "codemirror_mode": {
    "name": "ipython",
    "version": 3
   },
   "file_extension": ".py",
   "mimetype": "text/x-python",
   "name": "python",
   "nbconvert_exporter": "python",
   "pygments_lexer": "ipython3",
   "version": "3.12.7"
  }
 },
 "nbformat": 4,
 "nbformat_minor": 4
}
